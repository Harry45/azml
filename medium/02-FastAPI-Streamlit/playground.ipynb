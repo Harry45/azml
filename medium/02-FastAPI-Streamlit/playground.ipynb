{
 "cells": [
  {
   "cell_type": "code",
   "execution_count": 5,
   "id": "91a41401",
   "metadata": {},
   "outputs": [],
   "source": [
    "import os\n",
    "from dotenv import load_dotenv\n",
    "import requests\n",
    "import pandas as pd\n",
    "load_dotenv()\n",
    "API_KEY = os.getenv('API_KEY')"
   ]
  },
  {
   "cell_type": "markdown",
   "id": "aa505fbb",
   "metadata": {},
   "source": [
    "# Medium Post\n",
    "\n",
    "We are using the following [website](https://medium.com/@bragadeeshs/harmonizing-streamlit-and-fastapi-a-comprehensive-guide-to-building-and-deploying-data-driven-web-81a8fac69ad6) as reference.\n",
    "\n",
    "\n"
   ]
  },
  {
   "cell_type": "code",
   "execution_count": 24,
   "id": "ced1728b",
   "metadata": {},
   "outputs": [],
   "source": [
    "def get_listings():\n",
    "    url = 'https://www.alphavantage.co/query?function=LISTING_STATUS&apikey=demo'\n",
    "    data = pd.read_csv(url)\n",
    "    return data\n",
    "\n",
    "def get_ticker_info(ticker: str):\n",
    "    url = f'https://www.alphavantage.co/query?function=SYMBOL_SEARCH&keywords={ticker}&apikey={API_KEY}'\n",
    "    request = requests.get(url)\n",
    "    data = request.json()\n",
    "    bestmatch = data['bestMatches'][0]\n",
    "    if bestmatch:\n",
    "        return bestmatch\n",
    "    return None\n",
    "\n",
    "def get_price(ticker: str):\n",
    "    url = f'https://www.alphavantage.co/query?function=TIME_SERIES_INTRADAY&symbol={ticker}&interval=5min&apikey={API_KEY}'\n",
    "    request = requests.get(url)\n",
    "    data = request.json()\n",
    "    return data "
   ]
  },
  {
   "cell_type": "code",
   "execution_count": 25,
   "id": "a4b22763",
   "metadata": {},
   "outputs": [],
   "source": [
    "companies = get_listings()"
   ]
  },
  {
   "cell_type": "code",
   "execution_count": 26,
   "id": "c059e4d9",
   "metadata": {},
   "outputs": [
    {
     "data": {
      "text/html": [
       "<div>\n",
       "<style scoped>\n",
       "    .dataframe tbody tr th:only-of-type {\n",
       "        vertical-align: middle;\n",
       "    }\n",
       "\n",
       "    .dataframe tbody tr th {\n",
       "        vertical-align: top;\n",
       "    }\n",
       "\n",
       "    .dataframe thead th {\n",
       "        text-align: right;\n",
       "    }\n",
       "</style>\n",
       "<table border=\"1\" class=\"dataframe\">\n",
       "  <thead>\n",
       "    <tr style=\"text-align: right;\">\n",
       "      <th></th>\n",
       "      <th>symbol</th>\n",
       "      <th>name</th>\n",
       "      <th>exchange</th>\n",
       "      <th>assetType</th>\n",
       "      <th>ipoDate</th>\n",
       "      <th>delistingDate</th>\n",
       "      <th>status</th>\n",
       "    </tr>\n",
       "  </thead>\n",
       "  <tbody>\n",
       "    <tr>\n",
       "      <th>0</th>\n",
       "      <td>A</td>\n",
       "      <td>Agilent Technologies Inc</td>\n",
       "      <td>NYSE</td>\n",
       "      <td>Stock</td>\n",
       "      <td>1999-11-18</td>\n",
       "      <td>NaN</td>\n",
       "      <td>Active</td>\n",
       "    </tr>\n",
       "    <tr>\n",
       "      <th>1</th>\n",
       "      <td>AA</td>\n",
       "      <td>Alcoa Corp</td>\n",
       "      <td>NYSE</td>\n",
       "      <td>Stock</td>\n",
       "      <td>2016-10-18</td>\n",
       "      <td>NaN</td>\n",
       "      <td>Active</td>\n",
       "    </tr>\n",
       "    <tr>\n",
       "      <th>2</th>\n",
       "      <td>AAA</td>\n",
       "      <td>AXS First Priority CLO Bond ETF</td>\n",
       "      <td>NYSE ARCA</td>\n",
       "      <td>ETF</td>\n",
       "      <td>2020-09-09</td>\n",
       "      <td>NaN</td>\n",
       "      <td>Active</td>\n",
       "    </tr>\n",
       "    <tr>\n",
       "      <th>3</th>\n",
       "      <td>AAAU</td>\n",
       "      <td>Goldman Sachs Physical Gold ETF</td>\n",
       "      <td>BATS</td>\n",
       "      <td>ETF</td>\n",
       "      <td>2018-08-15</td>\n",
       "      <td>NaN</td>\n",
       "      <td>Active</td>\n",
       "    </tr>\n",
       "    <tr>\n",
       "      <th>4</th>\n",
       "      <td>AACG</td>\n",
       "      <td>ATA Creativity Global</td>\n",
       "      <td>NASDAQ</td>\n",
       "      <td>Stock</td>\n",
       "      <td>2008-01-29</td>\n",
       "      <td>NaN</td>\n",
       "      <td>Active</td>\n",
       "    </tr>\n",
       "  </tbody>\n",
       "</table>\n",
       "</div>"
      ],
      "text/plain": [
       "  symbol                             name   exchange assetType     ipoDate  \\\n",
       "0      A         Agilent Technologies Inc       NYSE     Stock  1999-11-18   \n",
       "1     AA                       Alcoa Corp       NYSE     Stock  2016-10-18   \n",
       "2    AAA  AXS First Priority CLO Bond ETF  NYSE ARCA       ETF  2020-09-09   \n",
       "3   AAAU  Goldman Sachs Physical Gold ETF       BATS       ETF  2018-08-15   \n",
       "4   AACG            ATA Creativity Global     NASDAQ     Stock  2008-01-29   \n",
       "\n",
       "   delistingDate  status  \n",
       "0            NaN  Active  \n",
       "1            NaN  Active  \n",
       "2            NaN  Active  \n",
       "3            NaN  Active  \n",
       "4            NaN  Active  "
      ]
     },
     "execution_count": 26,
     "metadata": {},
     "output_type": "execute_result"
    }
   ],
   "source": [
    "companies.head()"
   ]
  },
  {
   "cell_type": "code",
   "execution_count": null,
   "id": "d11c7f02",
   "metadata": {},
   "outputs": [],
   "source": []
  }
 ],
 "metadata": {
  "kernelspec": {
   "display_name": "Python 3 (ipykernel)",
   "language": "python",
   "name": "python3"
  },
  "language_info": {
   "codemirror_mode": {
    "name": "ipython",
    "version": 3
   },
   "file_extension": ".py",
   "mimetype": "text/x-python",
   "name": "python",
   "nbconvert_exporter": "python",
   "pygments_lexer": "ipython3",
   "version": "3.12.1"
  }
 },
 "nbformat": 4,
 "nbformat_minor": 5
}
