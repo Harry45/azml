{
 "cells": [
  {
   "cell_type": "code",
   "execution_count": 62,
   "id": "909bd71c-2062-463e-84e9-5c8da8adb639",
   "metadata": {},
   "outputs": [],
   "source": [
    "from scipy.spatial.distance import cdist\n",
    "import numpy as np \n",
    "\n",
    "# image (3 images)\n",
    "a = np.array([[0.9041,  0.0196], [-0.3108, -2.4423], [-0.4821,  1.059]])\n",
    "\n",
    "# template \n",
    "b = np.array([[-2.1763, -0.4713], [-0.6986,  1.3702]])\n",
    "\n",
    "# euclidean distance \n",
    "d_scipy = cdist(a, b)\n",
    "\n",
    "# filter best template\n",
    "best_template = b[np.argmin(d_scipy, axis=1, keepdims=True)][:, 0, :,]"
   ]
  },
  {
   "cell_type": "code",
   "execution_count": 64,
   "id": "a7bb9f5d-e39a-4c54-8d03-a40ffe468429",
   "metadata": {},
   "outputs": [],
   "source": []
  },
  {
   "cell_type": "code",
   "execution_count": 1,
   "id": "7030a728-96ea-4726-95dc-fb1004dfc16e",
   "metadata": {},
   "outputs": [],
   "source": [
    "import pandas as pd"
   ]
  },
  {
   "cell_type": "code",
   "execution_count": 6,
   "id": "7388308b-82a7-4ba8-abda-823f20512363",
   "metadata": {},
   "outputs": [],
   "source": [
    "df_j = pd.read_csv('ssweb/expenses/2024/January.csv', index_col=0)\n",
    "df_f = pd.read_csv('ssweb/expenses/2024/February.csv', index_col=0)"
   ]
  },
  {
   "cell_type": "code",
   "execution_count": null,
   "id": "3e912e3c-344f-48d7-8653-3e98fe7f1d8f",
   "metadata": {},
   "outputs": [],
   "source": []
  }
 ],
 "metadata": {
  "kernelspec": {
   "display_name": "Python 3 (ipykernel)",
   "language": "python",
   "name": "python3"
  },
  "language_info": {
   "codemirror_mode": {
    "name": "ipython",
    "version": 3
   },
   "file_extension": ".py",
   "mimetype": "text/x-python",
   "name": "python",
   "nbconvert_exporter": "python",
   "pygments_lexer": "ipython3",
   "version": "3.12.1"
  }
 },
 "nbformat": 4,
 "nbformat_minor": 5
}
