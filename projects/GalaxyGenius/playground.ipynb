{
 "cells": [
  {
   "cell_type": "code",
   "execution_count": 5,
   "id": "ea950e7f-6f69-4feb-a8d6-8db74c8d0c1c",
   "metadata": {},
   "outputs": [],
   "source": [
    "import torch\n",
    "import torch_tensorrt\n",
    "from transformers import T5Tokenizer"
   ]
  },
  {
   "cell_type": "code",
   "execution_count": 23,
   "id": "268a9890-ccdf-4611-9430-f98a6bfd92c6",
   "metadata": {},
   "outputs": [],
   "source": [
    "%%capture\n",
    "tokenizer = T5Tokenizer.from_pretrained(\"t5-base\")"
   ]
  },
  {
   "cell_type": "code",
   "execution_count": 24,
   "id": "f07f3460-a54a-48d9-8d63-192e8d737108",
   "metadata": {},
   "outputs": [],
   "source": [
    "%%capture\n",
    "backend = \"torch_tensorrt\"\n",
    "if torch.cuda.is_available():\n",
    "    DEV = \"cuda\"\n",
    "else:\n",
    "    DEV = \"cpu\"\n",
    "\n",
    "# the model\n",
    "model = torch.load(\"fastapi/models/t5-model-finetuned-50-epochs-copy.bin\")\n",
    "model.to(DEV)\n",
    "model.eval()"
   ]
  },
  {
   "cell_type": "code",
   "execution_count": 25,
   "id": "c3b23b13-d711-436c-87ad-a86184dd966b",
   "metadata": {},
   "outputs": [],
   "source": [
    "def prompt_generate(model, tokenizer, keywords: str) -> str:\n",
    "    \"\"\"Generate a prompt based on a set of keywords in the following format:\n",
    "\n",
    "    f\"{word_1} | {word_2}\"\n",
    "\n",
    "    Args:\n",
    "        keywords (str): a set of words defined above.\n",
    "\n",
    "    Returns:\n",
    "        str: the generated sentence from the T5 model.\n",
    "    \"\"\"\n",
    "    input_ids = tokenizer.encode(\n",
    "        keywords + \"</s>\", max_length=512, truncation=True, return_tensors=\"pt\"\n",
    "    )\n",
    "    input_ids = input_ids.to(DEV)\n",
    "    outputs = model.generate(input_ids, do_sample=True, max_length=1024)\n",
    "    output_text = tokenizer.decode(outputs[0])\n",
    "    return output_text[6:-4]"
   ]
  },
  {
   "cell_type": "code",
   "execution_count": 26,
   "id": "90fd6761-745f-44c3-aff1-2a0b94e71500",
   "metadata": {},
   "outputs": [],
   "source": [
    "new_model = torch.compile(\n",
    "    model,\n",
    "    backend=backend,\n",
    "    options={\n",
    "        \"truncate_long_and_double\": True,\n",
    "        \"precision\": torch.float16,\n",
    "    },\n",
    "    dynamic=False,\n",
    ")"
   ]
  },
  {
   "cell_type": "code",
   "execution_count": 29,
   "id": "7944c1bc-3ff7-413f-9723-e52e02d58c4e",
   "metadata": {},
   "outputs": [
    {
     "name": "stdout",
     "output_type": "stream",
     "text": [
      "CPU times: user 210 ms, sys: 0 ns, total: 210 ms\n",
      "Wall time: 210 ms\n"
     ]
    },
    {
     "data": {
      "text/plain": [
       "'The image of the galaxy was smooth and round, not merging with any other.'"
      ]
     },
     "execution_count": 29,
     "metadata": {},
     "output_type": "execute_result"
    }
   ],
   "source": [
    "%%time\n",
    "prompt_generate(model, tokenizer, 'Round | No merger')"
   ]
  },
  {
   "cell_type": "code",
   "execution_count": 30,
   "id": "49ee87ea-ad39-4b9e-9cfd-de820347f583",
   "metadata": {},
   "outputs": [
    {
     "name": "stdout",
     "output_type": "stream",
     "text": [
      "CPU times: user 327 ms, sys: 0 ns, total: 327 ms\n",
      "Wall time: 327 ms\n"
     ]
    },
    {
     "data": {
      "text/plain": [
       "'This galaxy has an image that does not have an edge-on disk, is not merging, and has no bar or spiral arms.'"
      ]
     },
     "execution_count": 30,
     "metadata": {},
     "output_type": "execute_result"
    }
   ],
   "source": [
    "%%time\n",
    "prompt_generate(new_model, tokenizer, 'Round | No merger')"
   ]
  },
  {
   "cell_type": "code",
   "execution_count": null,
   "id": "4fb65c38-8ea4-42e6-b0f2-7de520ceb8c0",
   "metadata": {},
   "outputs": [],
   "source": []
  }
 ],
 "metadata": {
  "kernelspec": {
   "display_name": "Python 3 (ipykernel)",
   "language": "python",
   "name": "python3"
  },
  "language_info": {
   "codemirror_mode": {
    "name": "ipython",
    "version": 3
   },
   "file_extension": ".py",
   "mimetype": "text/x-python",
   "name": "python",
   "nbconvert_exporter": "python",
   "pygments_lexer": "ipython3",
   "version": "3.9.0"
  }
 },
 "nbformat": 4,
 "nbformat_minor": 5
}
