{
 "cells": [
  {
   "cell_type": "code",
   "execution_count": 1,
   "id": "07ffac8b",
   "metadata": {},
   "outputs": [],
   "source": [
    "import pandas as pd \n",
    "import numpy as np \n",
    "import ast\n",
    "import shutil\n",
    "import gradio as gr\n",
    "import os  \n",
    "import torch\n",
    "import random\n",
    "from transformers import T5Tokenizer\n",
    "import warnings\n",
    "warnings.filterwarnings('ignore')"
   ]
  },
  {
   "cell_type": "code",
   "execution_count": 2,
   "id": "eb056785",
   "metadata": {},
   "outputs": [],
   "source": [
    "data_ml = pd.read_csv('data-ml/ML_predictions_class.csv')\n",
    "test_set = pd.read_csv('data-ml/test.csv')\n",
    "data_mtl = pd.read_csv('data-ml/tree_pred-2022-6-14.csv')"
   ]
  },
  {
   "cell_type": "markdown",
   "id": "5ec91181",
   "metadata": {},
   "source": [
    "# Process Results"
   ]
  },
  {
   "cell_type": "code",
   "execution_count": 3,
   "id": "804a03b0",
   "metadata": {},
   "outputs": [],
   "source": [
    "columns = list(test_set.columns)[2:]\n",
    "data_ml.columns = columns\n",
    "png_locs = test_set[['iauname', 'png_loc']]\n",
    "iaunames = png_locs['iauname'].values\n",
    "nobjects = test_set.shape[0]\n",
    "newnames = [iaunames[i].replace('+', '') for i in range(nobjects)]\n",
    "png_locs['newnames'] = newnames\n",
    "\n",
    "data_ml_new = pd.concat([png_locs, data_ml], axis = 1)\n",
    "data_mtl_new = pd.concat([png_locs, data_mtl], axis = 1)\n",
    "nobjects = data_mtl_new.shape[0]"
   ]
  },
  {
   "cell_type": "code",
   "execution_count": 23,
   "id": "45eb5d26",
   "metadata": {},
   "outputs": [
    {
     "data": {
      "text/html": [
       "<div>\n",
       "<style scoped>\n",
       "    .dataframe tbody tr th:only-of-type {\n",
       "        vertical-align: middle;\n",
       "    }\n",
       "\n",
       "    .dataframe tbody tr th {\n",
       "        vertical-align: top;\n",
       "    }\n",
       "\n",
       "    .dataframe thead th {\n",
       "        text-align: right;\n",
       "    }\n",
       "</style>\n",
       "<table border=\"1\" class=\"dataframe\">\n",
       "  <thead>\n",
       "    <tr style=\"text-align: right;\">\n",
       "      <th></th>\n",
       "      <th>iauname</th>\n",
       "      <th>png_loc</th>\n",
       "      <th>newnames</th>\n",
       "    </tr>\n",
       "  </thead>\n",
       "  <tbody>\n",
       "    <tr>\n",
       "      <th>0</th>\n",
       "      <td>J140750.54+151031.7</td>\n",
       "      <td>J140/J140750.54+151031.7.png</td>\n",
       "      <td>J140750.54151031.7</td>\n",
       "    </tr>\n",
       "    <tr>\n",
       "      <th>1</th>\n",
       "      <td>J135718.46+250352.5</td>\n",
       "      <td>J135/J135718.46+250352.5.png</td>\n",
       "      <td>J135718.46250352.5</td>\n",
       "    </tr>\n",
       "    <tr>\n",
       "      <th>2</th>\n",
       "      <td>J091543.01+300914.0</td>\n",
       "      <td>J091/J091543.01+300914.0.png</td>\n",
       "      <td>J091543.01300914.0</td>\n",
       "    </tr>\n",
       "    <tr>\n",
       "      <th>3</th>\n",
       "      <td>J081848.46+054220.7</td>\n",
       "      <td>J081/J081848.46+054220.7.png</td>\n",
       "      <td>J081848.46054220.7</td>\n",
       "    </tr>\n",
       "    <tr>\n",
       "      <th>4</th>\n",
       "      <td>J131316.58+093030.6</td>\n",
       "      <td>J131/J131316.58+093030.6.png</td>\n",
       "      <td>J131316.58093030.6</td>\n",
       "    </tr>\n",
       "  </tbody>\n",
       "</table>\n",
       "</div>"
      ],
      "text/plain": [
       "               iauname                       png_loc            newnames\n",
       "0  J140750.54+151031.7  J140/J140750.54+151031.7.png  J140750.54151031.7\n",
       "1  J135718.46+250352.5  J135/J135718.46+250352.5.png  J135718.46250352.5\n",
       "2  J091543.01+300914.0  J091/J091543.01+300914.0.png  J091543.01300914.0\n",
       "3  J081848.46+054220.7  J081/J081848.46+054220.7.png  J081848.46054220.7\n",
       "4  J131316.58+093030.6  J131/J131316.58+093030.6.png  J131316.58093030.6"
      ]
     },
     "execution_count": 23,
     "metadata": {},
     "output_type": "execute_result"
    }
   ],
   "source": [
    "png_locs.head()"
   ]
  },
  {
   "cell_type": "code",
   "execution_count": 4,
   "id": "43b33417",
   "metadata": {},
   "outputs": [],
   "source": [
    "def process_column(dataframe):\n",
    "    nobjects = dataframe.shape[0]\n",
    "    for taskname in list(dataframe.columns)[3:]:\n",
    "        record = [] \n",
    "        for i in range(nobjects):\n",
    "            cell_value = dataframe[taskname].values[i]\n",
    "            if not pd.isnull(cell_value):\n",
    "                answer = ast.literal_eval(cell_value)[0]\n",
    "            else:\n",
    "                answer = np.nan\n",
    "            record.append(answer)\n",
    "        dataframe[taskname] = record\n",
    "    return dataframe"
   ]
  },
  {
   "cell_type": "code",
   "execution_count": 5,
   "id": "d2ff871e",
   "metadata": {},
   "outputs": [],
   "source": [
    "data_mtl_new = process_column(data_mtl_new)"
   ]
  },
  {
   "cell_type": "code",
   "execution_count": 6,
   "id": "97e955d8",
   "metadata": {},
   "outputs": [],
   "source": [
    "# data_ml_new.to_csv('data-ml/processed_ml.csv')\n",
    "# data_mtl_new.to_csv('data-ml/processed_mtl.csv')"
   ]
  },
  {
   "cell_type": "markdown",
   "id": "b69c60cc",
   "metadata": {},
   "source": [
    "# Gather Images"
   ]
  },
  {
   "cell_type": "code",
   "execution_count": 7,
   "id": "67055561",
   "metadata": {},
   "outputs": [],
   "source": [
    "src_main = '/home/arrykrishna/Desktop/GalaxyTest/'\n",
    "dst = 'images/'"
   ]
  },
  {
   "cell_type": "code",
   "execution_count": 8,
   "id": "bcbf80b8",
   "metadata": {},
   "outputs": [],
   "source": [
    "# for path in png_locs['png_loc'].values:\n",
    "#     src = src_main + path \n",
    "#     shutil.copy(src, dst)"
   ]
  },
  {
   "cell_type": "markdown",
   "id": "895e9294",
   "metadata": {},
   "source": [
    "# App Components"
   ]
  },
  {
   "cell_type": "code",
   "execution_count": 9,
   "id": "78ee1d52",
   "metadata": {},
   "outputs": [],
   "source": [
    "TASK_MAPPING = {\n",
    "\n",
    "    'task_1': {'Smooth': 'smooth', 'Featured or Disk': 'has features or disk', 'Artifact': 'artifact'},\n",
    "    'task_2': {'Round': 'round', 'In Between': 'elliptical', 'Cigar Shaped': 'cigar-shaped'},\n",
    "    'task_3': {'Edge On Disk (Yes)': 'has an edge-on disk', 'Edge On Disk (No)': 'does not have an edge-on disk'},\n",
    "    'task_4': {'Merging (Merger)': 'merging', 'Merging (Major Disturbance)': 'merging with major disturbance', 'Merging (Minor Disturbance)': 'merging with minor disturbance', 'Merging (None)': 'not merging'},\n",
    "    'task_5': {'Bulge (Rounded)': 'rounded central bulge', 'Bulge (Boxy)': 'boxy central bulge', 'Bulge (None)': 'no central bulge'},\n",
    "    'task_6': {'No Bar': 'no bar', 'Weak Bar': 'weak bar', 'Strong Bar': 'strong bar'},\n",
    "    'task_7': {'Spiral Arms (Yes)': 'has spiral arms', 'Spiral Arms (No)': 'does not have spiral arms'},\n",
    "    'task_8': {'Spiral Winding (Tight)': 'tight spiral winding', 'Spiral Winding (Medium)': 'medium spiral winding', 'Spiral Winding (Loose)': 'loose spiral winding'},\n",
    "    'task_9': {'Spiral Arms (1)': 'one spiral arm', 'Spiral Arms (2)': 'two spiral arms', 'Spiral Arms (3)': 'three spiral arms', 'Spiral Arms (4)': 'four spiral arms',\n",
    "               'Spiral Arms (More Than 4)': 'more than four spiral arms', 'Spiral Arms (cannot tell)': 'no spiral arms'},\n",
    "    'task_10': {'Central Bulge (None)': 'no central bulge', 'Central Bulge (Small)': 'small central bulge', 'Central Bulge (Moderate)': 'moderate central bulge',\n",
    "                'Central Bulge (Large)': 'large central bulge', 'Central Bulge (Dominant)': 'dominant central bulge'}\n",
    "\n",
    "}\n",
    "\n",
    "QUESTIONS = {\n",
    "    'task_1': 'Is the galaxy simply smooth and rounded, with no sign of a disk?',\n",
    "    'task_2': 'How rounded is it?',\n",
    "    'task_3': 'Could this be a disk viewed edge-on?',\n",
    "    'task_4': 'Is the galaxy merging or disturbed?',\n",
    "    'task_5': 'Does the galaxy have a bulge at its centre? If so, what shape?',\n",
    "    'task_6': 'Is there a bar feature through the centre of the galaxy?', \n",
    "    'task_7': 'Is there any sign of a spiral arm pattern?',\n",
    "    'task_8': 'How tightly wound do the spiral arms appear?',\n",
    "    'task_9': 'How many spiral arms are there?',\n",
    "    'task_10': 'Is there a central bulge? Is so, how large is it compared with the galaxy?'\n",
    "}\n"
   ]
  },
  {
   "cell_type": "code",
   "execution_count": 10,
   "id": "823f9aba",
   "metadata": {},
   "outputs": [
    {
     "name": "stderr",
     "output_type": "stream",
     "text": [
      "You are using the default legacy behaviour of the <class 'transformers.models.t5.tokenization_t5.T5Tokenizer'>. If you see this, DO NOT PANIC! This is expected, and simply means that the `legacy` (previous) behavior will be used so nothing changes for you. If you want to use the new behaviour, set `legacy=True`. This should only be set if you understand what it means, and thouroughly read the reason why this was added as explained in https://github.com/huggingface/transformers/pull/24565\n"
     ]
    }
   ],
   "source": [
    "%%capture\n",
    "# need this because we used them to train the model\n",
    "TOKENIZER = T5Tokenizer.from_pretrained('t5-base')\n",
    "DEV = 'cuda'\n",
    "\n",
    "# the model\n",
    "MODEL = torch.load('/home/arrykrishna/Documents/Oxford/Projects/Galaxy-Zoo/models/t5-model-finetuned-50-epochs.bin')\n",
    "MODEL.eval()"
   ]
  },
  {
   "cell_type": "code",
   "execution_count": 11,
   "id": "79dd757e",
   "metadata": {},
   "outputs": [],
   "source": [
    "def prompt_generate(keywords):\n",
    "    input_ids = TOKENIZER.encode(keywords + \"</s>\", max_length=512, truncation=True,\n",
    "                                 return_tensors=\"pt\")\n",
    "    input_ids = input_ids.to(DEV)\n",
    "    outputs = MODEL.generate(input_ids, do_sample=True, max_length=1024)\n",
    "    output_text = TOKENIZER.decode(outputs[0])\n",
    "    return output_text[6:-4]"
   ]
  },
  {
   "cell_type": "code",
   "execution_count": 12,
   "id": "5c2d3a50",
   "metadata": {},
   "outputs": [],
   "source": [
    "def order_labels(mtl_labels):\n",
    "\n",
    "    t_1 = ['task_1', 'task_2', 'task_4']\n",
    "    t_2 = ['task_1', 'task_3', 'task_5', 'task_4']\n",
    "    t_3 = ['task_1', 'task_3', 'task_6', 'task_7', 'task_10', 'task_4']\n",
    "    t_4 = ['task_1', 'task_3', 'task_6', 'task_7', 'task_8', 'task_9', 'task_10', 'task_4']\n",
    "    t_5 = ['task_1']\n",
    "    trees = [t_1, t_2, t_3, t_4, t_5]\n",
    "\n",
    "    tasks = list(mtl_labels.index[~pd.isnull(mtl_labels)]) \n",
    "    for i, tree in enumerate(trees):\n",
    "        criterion = all([t in tree for t in tasks])\n",
    "        if criterion:\n",
    "            return f'tree_{i+1}', mtl_labels[tree]"
   ]
  },
  {
   "cell_type": "code",
   "execution_count": 13,
   "id": "ab814d16",
   "metadata": {},
   "outputs": [],
   "source": [
    "\n",
    "\n",
    "def tree_1(label_1, label_2, label_3):\n",
    "    newlabel_1 = TASK_MAPPING['task_1'][label_1]\n",
    "    newlabel_2 = TASK_MAPPING['task_2'][label_2]\n",
    "    newlabel_3 = TASK_MAPPING['task_4'][label_3]\n",
    "    keywords = f\"{newlabel_1} | {newlabel_2} | {newlabel_3}\"\n",
    "    return prompt_generate(keywords) \n",
    "\n",
    "def tree_2(label_1, label_2, label_3, label_4):\n",
    "    newlabel_1 = TASK_MAPPING['task_1'][label_1]\n",
    "    newlabel_2 = TASK_MAPPING['task_3'][label_2]\n",
    "    newlabel_3 = TASK_MAPPING['task_5'][label_3]\n",
    "    newlabel_4 = TASK_MAPPING['task_4'][label_4]\n",
    "    keywords = f\"{newlabel_1} | {newlabel_2} | {newlabel_3} | {newlabel_4}\"\n",
    "    return prompt_generate(keywords) \n",
    "\n",
    "def tree_3(label_1, label_2, label_3, label_4, label_5, label_6):\n",
    "    newlabel_1 = TASK_MAPPING['task_1'][label_1]\n",
    "    newlabel_2 = TASK_MAPPING['task_3'][label_2]\n",
    "    newlabel_3 = TASK_MAPPING['task_6'][label_3]\n",
    "    newlabel_4 = TASK_MAPPING['task_7'][label_4]\n",
    "    newlabel_5 = TASK_MAPPING['task_10'][label_5]\n",
    "    newlabel_6 = TASK_MAPPING['task_4'][label_6]\n",
    "    keywords = f\"{newlabel_1} | {newlabel_2} | {newlabel_3} | {newlabel_4} | {newlabel_5} | {newlabel_6}\"\n",
    "    return prompt_generate(keywords) \n",
    "\n",
    "\n",
    "def tree_4(label_1, label_2, label_3, label_4, label_5, label_6, label_7, label_8):\n",
    "    newlabel_1 = TASK_MAPPING['task_1'][label_1]\n",
    "    newlabel_2 = TASK_MAPPING['task_3'][label_2]\n",
    "    newlabel_3 = TASK_MAPPING['task_6'][label_3]\n",
    "    newlabel_4 = TASK_MAPPING['task_7'][label_4]\n",
    "    newlabel_5 = TASK_MAPPING['task_8'][label_5]\n",
    "    newlabel_6 = TASK_MAPPING['task_9'][label_6]\n",
    "    newlabel_7 = TASK_MAPPING['task_10'][label_7]\n",
    "    newlabel_8 = TASK_MAPPING['task_4'][label_8]\n",
    "    keywords = f\"{newlabel_1} | {newlabel_2} | {newlabel_3} | {newlabel_4} | {newlabel_5} | {newlabel_6} | {newlabel_7} | {newlabel_8}\"\n",
    "    return prompt_generate(keywords) \n",
    "\n",
    "def tree_5(label_1):\n",
    "    newlabel_1 = TASK_MAPPING['task_1'][label_1]\n",
    "    keywords = f\"{newlabel_1}\"\n",
    "    return prompt_generate(keywords) "
   ]
  },
  {
   "cell_type": "code",
   "execution_count": 14,
   "id": "ce951b09",
   "metadata": {},
   "outputs": [],
   "source": [
    "def generate_sentence(treename, labels):\n",
    "    \n",
    "    if treename == 'tree_1':\n",
    "        sentence = tree_1(*labels.values)\n",
    "    \n",
    "    if treename == 'tree_2':\n",
    "        sentence = tree_2(*labels.values)\n",
    "        \n",
    "    if treename == 'tree_3':\n",
    "        sentence = tree_3(*labels.values)\n",
    "        \n",
    "    if treename == 'tree_4':\n",
    "        sentence = tree_4(*labels.values)\n",
    "        \n",
    "    if treename == 'tree_5':\n",
    "        sentence = tree_5(*labels.values)\n",
    "    \n",
    "    return sentence \n",
    "\n",
    "def generate_question_answer(mtl_labels):\n",
    "    \n",
    "    tasks = list(mtl_labels.index)\n",
    "    record = {}\n",
    "    for i, t in enumerate(tasks):\n",
    "        record[QUESTIONS[t]] = mtl_labels.values[i]\n",
    "    return record\n",
    "\n",
    "def generate_tags(ml_labels):\n",
    "    return list(ml_labels.index[ml_labels == 1])"
   ]
  },
  {
   "cell_type": "markdown",
   "id": "2bc457f6",
   "metadata": {},
   "source": [
    "# Components"
   ]
  },
  {
   "cell_type": "code",
   "execution_count": 15,
   "id": "79184f68",
   "metadata": {},
   "outputs": [],
   "source": [
    "index = 3\n",
    "mtl_test = data_mtl_new.iloc[index][3:]\n",
    "ml_test = data_ml_new.iloc[index][3:]"
   ]
  },
  {
   "cell_type": "code",
   "execution_count": 16,
   "id": "42cc8b3c",
   "metadata": {},
   "outputs": [
    {
     "data": {
      "text/plain": [
       "['Featured or Disk',\n",
       " 'Cigar Shaped',\n",
       " 'Edge On Disk (No)',\n",
       " 'Merging (None)',\n",
       " 'Bulge (None)',\n",
       " 'Spiral Arms (Yes)',\n",
       " 'Central Bulge (Small)']"
      ]
     },
     "execution_count": 16,
     "metadata": {},
     "output_type": "execute_result"
    }
   ],
   "source": [
    "generate_tags(ml_test)"
   ]
  },
  {
   "cell_type": "code",
   "execution_count": 17,
   "id": "362796b6",
   "metadata": {},
   "outputs": [],
   "source": [
    "new_tree, new_test = order_labels(mtl_test)"
   ]
  },
  {
   "cell_type": "code",
   "execution_count": 18,
   "id": "f9b23e3e",
   "metadata": {},
   "outputs": [
    {
     "data": {
      "text/plain": [
       "{'Is the galaxy simply smooth and rounded, with no sign of a disk?': 'Featured or Disk',\n",
       " 'Could this be a disk viewed edge-on?': 'Edge On Disk (No)',\n",
       " 'Is there a bar feature through the centre of the galaxy?': 'No Bar',\n",
       " 'Is there any sign of a spiral arm pattern?': 'Spiral Arms (Yes)',\n",
       " 'How tightly wound do the spiral arms appear?': 'Spiral Winding (Tight)',\n",
       " 'How many spiral arms are there?': 'Spiral Arms (cannot tell)',\n",
       " 'Is there a central bulge? Is so, how large is it compared with the galaxy?': 'Central Bulge (Small)',\n",
       " 'Is the galaxy merging or disturbed?': 'Merging (None)'}"
      ]
     },
     "execution_count": 18,
     "metadata": {},
     "output_type": "execute_result"
    }
   ],
   "source": [
    "generate_question_answer(new_test)"
   ]
  },
  {
   "cell_type": "code",
   "execution_count": 19,
   "id": "43d73f97",
   "metadata": {},
   "outputs": [
    {
     "data": {
      "text/plain": [
       "'This galaxy image does not have an edge-on disk, a bar, or spiral arms, but it does have a small central bulge and tight spiral winding.'"
      ]
     },
     "execution_count": 19,
     "metadata": {},
     "output_type": "execute_result"
    }
   ],
   "source": [
    "generate_sentence(new_tree, new_test)"
   ]
  },
  {
   "cell_type": "markdown",
   "id": "b8ec550d",
   "metadata": {},
   "source": [
    "# Application"
   ]
  },
  {
   "cell_type": "code",
   "execution_count": 21,
   "id": "3ec2c3d4",
   "metadata": {},
   "outputs": [],
   "source": [
    "def get_images():\n",
    "    nimages = 4\n",
    "    img_path = 'images/'\n",
    "    img_paths = os.listdir(img_path)\n",
    "    idx = random.sample(range(0, nobjects), nimages)\n",
    "    chosen_images = np.asarray(img_paths)[idx]\n",
    "    full_paths = [img_path + c for c in chosen_images]\n",
    "    images = [(full_paths[i], f\"Image {i}\") for i in range(nimages)]\n",
    "    return images\n",
    "\n",
    "def get_select_index(evt: gr.SelectData):\n",
    "    return evt.index\n",
    "\n",
    "def machine_learning(number, gallery):\n",
    "    obj_name = gallery[number][0].split(os.sep)[-1][:-4]\n",
    "    \n",
    "    # multilabel case (taggings)\n",
    "    test_obj = data_ml_new[data_ml_new['newnames'] == obj_name]\n",
    "    tags = generate_tags(test_obj.iloc[0])\n",
    "    tags_out = ''.join([f'{t}\\n' for t in tags])\n",
    "    \n",
    "    # multitask case \n",
    "    test_obj_mtl = data_mtl_new[data_mtl_new['newnames'] == obj_name]\n",
    "    new_tree, new_test = order_labels(mtl_test)\n",
    "    mtl_out = generate_question_answer(new_test)\n",
    "    mtl_ques_ans = ''\n",
    "    for i, (k, v) in enumerate(mtl_out.items()):\n",
    "        mtl_ques_ans += f'{i+1}) ' + k + '\\n' + v + '\\n\\n'\n",
    "        \n",
    "    # generate sentence \n",
    "    sentence = generate_sentence(new_tree, new_test)\n",
    "    \n",
    "    return tags_out, mtl_ques_ans, sentence"
   ]
  },
  {
   "cell_type": "code",
   "execution_count": 24,
   "id": "8169804e",
   "metadata": {},
   "outputs": [],
   "source": [
    "# <img src=\"https://raw.githubusercontent.com/Harry45/azml/main/projects/GalaxyGenius/paper-images/tree.png\" width=\"400\"/>"
   ]
  },
  {
   "cell_type": "code",
   "execution_count": 42,
   "id": "8601edbc",
   "metadata": {},
   "outputs": [
    {
     "name": "stdout",
     "output_type": "stream",
     "text": [
      "Running on local URL:  http://127.0.0.1:7878\n",
      "\n",
      "To create a public link, set `share=True` in `launch()`.\n"
     ]
    },
    {
     "data": {
      "text/html": [
       "<div><iframe src=\"http://127.0.0.1:7878/\" width=\"100%\" height=\"500\" allow=\"autoplay; camera; microphone; clipboard-read; clipboard-write;\" frameborder=\"0\" allowfullscreen></iframe></div>"
      ],
      "text/plain": [
       "<IPython.core.display.HTML object>"
      ]
     },
     "metadata": {},
     "output_type": "display_data"
    }
   ],
   "source": [
    "with gr.Blocks() as demo:\n",
    "    gr.HTML(\"\"\"\n",
    "    \n",
    "<html lang=\"en\">\n",
    "<head>\n",
    "    <meta charset=\"UTF-8\">\n",
    "    <meta name=\"viewport\" content=\"width=device-width, initial-scale=1.0\">\n",
    "    <title>GalaxyGenius</title>\n",
    "    <style>\n",
    "        .container {\n",
    "            display: flex;\n",
    "            justify-content: space-between;\n",
    "            align-items: flex-start;\n",
    "            padding: 20px;\n",
    "        }\n",
    "        .column {\n",
    "            flex: 1;\n",
    "            padding: 10px;\n",
    "        }\n",
    "        .column img {\n",
    "            max-width: 100%;\n",
    "            height: auto;\n",
    "        }\n",
    "        p {\n",
    "            text-align: justify;\n",
    "        }\n",
    "    </style>\n",
    "</head>\n",
    "<body>\n",
    "\n",
    "<div class=\"container\">\n",
    "    <div class=\"column\">\n",
    "        <h2>GalaxyGenius</h2>\n",
    "        \n",
    "        <h3>Multi-label Learning for Galaxy Image Tagging</h3>\n",
    "        <p>Our innovative application utilizes multi-label learning techniques to assign relevant tags to galaxy images. By analyzing various features and characteristics within each image, the system can accurately identify and label multiple attributes such as galaxy type, shape, and size. This approach enhances the efficiency of cataloging vast collections of astronomical data and provides valuable insights into the diverse properties of galaxies across the universe.</p>\n",
    "\n",
    "        <h3>Multi-Task Learning for Hierarchical Classification of Galaxies</h3>\n",
    "        <p>Our cutting-edge system employs multi-task learning methodologies to navigate through hierarchical taxonomies and classify galaxies. By simultaneously training on multiple related tasks, the model learns to identify the optimal path down the hierarchical tree structure, enabling precise categorization of galaxies based on their intrinsic properties. This approach streamlines the classification process and enhances the accuracy and granularity of galaxy classification, facilitating comprehensive studies of cosmic structures and evolution.</p>\n",
    "\n",
    "        <h3>NLP-Powered Object Description for Astronomical Images</h3>\n",
    "        <p>This tool leverages advanced Natural Language Processing (NLP) techniques and the\n",
    "        Multi-Task Learning (MTL) method developed above, to analyze word descriptions across various tasks simultaneously, \n",
    "        generating prompts tailored to individual needs. Whether you're a writer seeking inspiration, \n",
    "        a student preparing for presentations, or a professional brainstorming ideas, this application \n",
    "        adapts seamlessly to provide relevant and engaging prompts. With its user-friendly interface and \n",
    "        sophisticated algorithms, this application empowers users to unlock their full creative potential \n",
    "        effortlessly. Experience the future of prompt generation and redefine the way you approach your \n",
    "        creative endeavors with this powerful tool.</p>\n",
    "\n",
    "\n",
    "    </div>\n",
    "    <div class=\"column\">\n",
    "        <img src=\"https://raw.githubusercontent.com/Harry45/azml/main/projects/GalaxyGenius/paper-images/tree.png\" width=\"420\" alt=\"Application Image\">\n",
    "    </div>\n",
    "</div>\n",
    "\n",
    "</body>\n",
    "</html>\n",
    "    \"\"\") \n",
    "\n",
    "    gallery = gr.Gallery(label=\"Your Images\", columns=[2], rows=[2], min_width=200, interactive=False, height = 700)\n",
    "    btn = gr.Button(\"Get Your Images\", scale=0)\n",
    "    btn.click(get_images, None, gallery)\n",
    "    selected = gr.Number(label = 'Image Selected', show_label=True)\n",
    "    index_selected = gallery.select(get_select_index, None, selected)\n",
    "    gr.Interface(machine_learning, [selected, gallery], [gr.Textbox(label = 'Tags'), \n",
    "                                                         gr.Textbox(label = 'Classifier'),\n",
    "                                                         gr.Textbox(label = 'NLP Model')])\n",
    "    \n",
    "if __name__ == \"__main__\":\n",
    "    demo.launch()"
   ]
  },
  {
   "cell_type": "code",
   "execution_count": null,
   "id": "94095d55",
   "metadata": {},
   "outputs": [],
   "source": []
  }
 ],
 "metadata": {
  "kernelspec": {
   "display_name": "Python 3 (ipykernel)",
   "language": "python",
   "name": "python3"
  },
  "language_info": {
   "codemirror_mode": {
    "name": "ipython",
    "version": 3
   },
   "file_extension": ".py",
   "mimetype": "text/x-python",
   "name": "python",
   "nbconvert_exporter": "python",
   "pygments_lexer": "ipython3",
   "version": "3.9.18"
  }
 },
 "nbformat": 4,
 "nbformat_minor": 5
}
