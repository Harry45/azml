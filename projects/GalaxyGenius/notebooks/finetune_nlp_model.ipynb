{
 "cells": [
  {
   "cell_type": "code",
   "execution_count": null,
   "id": "0c5acef0",
   "metadata": {},
   "outputs": [],
   "source": [
    "import os\n",
    "import time\n",
    "import torch\n",
    "import pandas as pd\n",
    "from transformers import T5Tokenizer, T5ForConditionalGeneration\n",
    "from transformers.optimization import  Adafactor\n",
    "import warnings\n",
    "warnings.filterwarnings('ignore')"
   ]
  },
  {
   "cell_type": "code",
   "execution_count": null,
   "id": "c638cb9e",
   "metadata": {},
   "outputs": [],
   "source": [
    "train_df=pd.read_csv('../data/training_paths.csv', index_col=[0])"
   ]
  },
  {
   "cell_type": "code",
   "execution_count": null,
   "id": "ed125e4b",
   "metadata": {},
   "outputs": [],
   "source": [
    "train_df.head()"
   ]
  },
  {
   "cell_type": "code",
   "execution_count": null,
   "id": "2c22091e",
   "metadata": {},
   "outputs": [],
   "source": [
    "batch_size=8\n",
    "num_of_batches=len(train_df)/batch_size\n",
    "num_of_epochs=4\n",
    "num_of_batches=int(num_of_batches)\n",
    "num_of_epochs=50\n",
    "\n",
    "train_set=train_df.iloc[  :2000,:]"
   ]
  },
  {
   "cell_type": "code",
   "execution_count": null,
   "id": "694d945d",
   "metadata": {},
   "outputs": [],
   "source": [
    "if torch.cuda.is_available():\n",
    "    dev = torch.device(\"cuda:0\")\n",
    "    print(\"Running on the GPU\")\n",
    "else:\n",
    "    dev = torch.device(\"cpu\")\n",
    "    print(\"Running on the CPU\")"
   ]
  },
  {
   "cell_type": "code",
   "execution_count": null,
   "id": "f38a37b2",
   "metadata": {},
   "outputs": [],
   "source": [
    "%%capture\n",
    "tokenizer = T5Tokenizer.from_pretrained('t5-base') # t5-base\n",
    "model = T5ForConditionalGeneration.from_pretrained('t5-base', return_dict=True) # t5-base\n",
    "# moving the model to device(GPU/CPU)\n",
    "model.to(dev)"
   ]
  },
  {
   "cell_type": "code",
   "execution_count": null,
   "id": "7f7abf0d",
   "metadata": {},
   "outputs": [],
   "source": [
    "optimizer = Adafactor(\n",
    "    model.parameters(),\n",
    "    lr=1e-3,\n",
    "    eps=(1e-30, 1e-3),\n",
    "    clip_threshold=1.0,\n",
    "    decay_rate=-0.8,\n",
    "    beta1=None,\n",
    "    weight_decay=0.0,\n",
    "    relative_step=False,\n",
    "    scale_parameter=False,\n",
    "    warmup_init=False\n",
    ")"
   ]
  },
  {
   "cell_type": "code",
   "execution_count": null,
   "id": "9b5653a3",
   "metadata": {},
   "outputs": [],
   "source": [
    "model.train()\n",
    "\n",
    "loss_per_10_steps = []\n",
    "for epoch in range(1, num_of_epochs + 1):\n",
    "    print(\"Running epoch: {}\".format(epoch))\n",
    "\n",
    "    running_loss = 0\n",
    "\n",
    "    out = display(progress(1, num_of_batches + 1), display_id=True)\n",
    "    for i in range(num_of_batches):\n",
    "        inputbatch = []\n",
    "        labelbatch = []\n",
    "        new_df = train_set[i * batch_size : i * batch_size + batch_size]\n",
    "        for indx, row in new_df.iterrows():\n",
    "            input = row[\"input_text\"] + \"</s>\"\n",
    "            labels = row[\"target\"] + \"</s>\"\n",
    "            inputbatch.append(input)\n",
    "            labelbatch.append(labels)\n",
    "        if len(inputbatch) >= 1:\n",
    "            inputbatch = tokenizer.batch_encode_plus(\n",
    "                inputbatch, padding=True, max_length=512, return_tensors=\"pt\"\n",
    "            )[\"input_ids\"]\n",
    "            labelbatch = tokenizer.batch_encode_plus(\n",
    "                labelbatch, padding=True, max_length=512, return_tensors=\"pt\"\n",
    "            )[\"input_ids\"]\n",
    "            inputbatch = inputbatch.to(dev)\n",
    "            labelbatch = labelbatch.to(dev)\n",
    "\n",
    "            # clear out the gradients of all Variables\n",
    "            optimizer.zero_grad()\n",
    "\n",
    "            # Forward propogation\n",
    "            outputs = model(input_ids=inputbatch, labels=labelbatch)\n",
    "            loss = outputs.loss\n",
    "            loss_num = loss.item()\n",
    "            logits = outputs.logits\n",
    "            running_loss += loss_num\n",
    "            if i % 10 == 0:\n",
    "                loss_per_10_steps.append(loss_num)\n",
    "            out.update(progress(loss_num, i, num_of_batches + 1))\n",
    "\n",
    "            # calculating the gradients\n",
    "            loss.backward()\n",
    "\n",
    "            # updating the params\n",
    "            optimizer.step()\n",
    "\n",
    "    running_loss = running_loss / int(num_of_batches)\n",
    "    print(\"Epoch: {} , Running loss: {}\".format(epoch, running_loss))"
   ]
  },
  {
   "cell_type": "code",
   "execution_count": null,
   "id": "9de1a6e3",
   "metadata": {},
   "outputs": [],
   "source": [
    "def text_inference(model, keywords):\n",
    "    model.eval()\n",
    "    input_ids = tokenizer.encode(\n",
    "        keywords + \"</s>\", max_length=512, truncation=True, return_tensors=\"pt\"\n",
    "    )  \n",
    "    input_ids = input_ids.to(dev)\n",
    "    outputs = model.generate(input_ids, max_length=1024)\n",
    "    output_text = tokenizer.decode(outputs[0])\n",
    "    return output_text[6:-4]"
   ]
  },
  {
   "cell_type": "code",
   "execution_count": null,
   "id": "a508aec6",
   "metadata": {},
   "outputs": [],
   "source": [
    "# torch.save(model, 't5-model-finetuned-50-epochs.bin')"
   ]
  }
 ],
 "metadata": {
  "kernelspec": {
   "display_name": "Python 3 (ipykernel)",
   "language": "python",
   "name": "python3"
  },
  "language_info": {
   "codemirror_mode": {
    "name": "ipython",
    "version": 3
   },
   "file_extension": ".py",
   "mimetype": "text/x-python",
   "name": "python",
   "nbconvert_exporter": "python",
   "pygments_lexer": "ipython3",
   "version": "3.9.18"
  }
 },
 "nbformat": 4,
 "nbformat_minor": 5
}
