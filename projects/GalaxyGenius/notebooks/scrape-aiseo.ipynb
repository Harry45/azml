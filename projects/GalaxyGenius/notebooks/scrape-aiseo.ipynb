{
 "cells": [
  {
   "cell_type": "code",
   "execution_count": 25,
   "id": "90dfde9b",
   "metadata": {},
   "outputs": [],
   "source": [
    "import os\n",
    "import selenium\n",
    "from selenium import webdriver\n",
    "import time\n",
    "from PIL import Image\n",
    "import io\n",
    "import requests\n",
    "from webdriver_manager.chrome import ChromeDriverManager\n",
    "from selenium.common.exceptions import ElementClickInterceptedException\n",
    "from selenium.webdriver.common.by import By\n",
    "from selenium.webdriver.common.keys import Keys\n",
    "import time \n",
    "import pandas as pd "
   ]
  },
  {
   "cell_type": "code",
   "execution_count": 7,
   "id": "3a397ca6",
   "metadata": {},
   "outputs": [
    {
     "name": "stderr",
     "output_type": "stream",
     "text": [
      "[WDM] - Cache is valid for [23/04/2023]\n",
      "[WDM] - Looking for [chromedriver 112.0.5615.49 linux64] driver in cache \n",
      "[WDM] - Driver found in cache [/home/harry/.wdm/drivers/chromedriver/112.0.5615.49/linux64/chromedriver]\n"
     ]
    }
   ],
   "source": [
    "%%capture\n",
    "driver = webdriver.Chrome(ChromeDriverManager().install())"
   ]
  },
  {
   "cell_type": "code",
   "execution_count": 8,
   "id": "89ffb09b",
   "metadata": {},
   "outputs": [],
   "source": [
    "search_url=\"https://aiseo.ai/tools/paraphrasing-tool.html\"\n",
    "driver.get(search_url)"
   ]
  },
  {
   "cell_type": "code",
   "execution_count": 299,
   "id": "0f658398",
   "metadata": {},
   "outputs": [],
   "source": [
    "def gather_data(dataframe, driver, nrepeat = 2, timelapse = 5):\n",
    "    \n",
    "    testing = driver.find_element_by_css_selector('div.lmt__side_container.lmt__side_container--source')\n",
    "    testing2 = testing.find_element_by_css_selector('div.ce-block__content')\n",
    "    testing3 = testing2.find_element_by_xpath(\"//div[contains(text(),'dummy')]\")\n",
    "    testing3.clear()\n",
    "    data = dict()\n",
    "    for i in range(dataframe.shape[0]):\n",
    "        record = list()\n",
    "        for n in range(nrepeat):\n",
    "            features = ', '.join(dataframe.iloc[i])\n",
    "            inputs = 'galaxy, ' + features\n",
    "            testing3.send_keys(inputs)       \n",
    "            button = testing.find_element_by_xpath(\"//button[@id='aiseo-generate-btn']\")\n",
    "            button.click()\n",
    "            time.sleep(timelapse)\n",
    "            testing4 = driver.find_element_by_css_selector('div.lmt__side_container.lmt__side_container--target')\n",
    "            testing5 = testing4.find_element_by_css_selector('div.ce-block__content')\n",
    "            testing3.clear()\n",
    "            record.append(testing5.text)\n",
    "        data[i] = record\n",
    "    return pd.DataFrame(data).T"
   ]
  },
  {
   "cell_type": "code",
   "execution_count": 297,
   "id": "9becd899",
   "metadata": {},
   "outputs": [],
   "source": [
    "dataframe = pd.DataFrame([['spiral', 'three arms', 'strong bar'], ['elliptical', 'round', 'elongated']])"
   ]
  },
  {
   "cell_type": "code",
   "execution_count": 298,
   "id": "cd74a3c9",
   "metadata": {},
   "outputs": [
    {
     "data": {
      "text/html": [
       "<div>\n",
       "<style scoped>\n",
       "    .dataframe tbody tr th:only-of-type {\n",
       "        vertical-align: middle;\n",
       "    }\n",
       "\n",
       "    .dataframe tbody tr th {\n",
       "        vertical-align: top;\n",
       "    }\n",
       "\n",
       "    .dataframe thead th {\n",
       "        text-align: right;\n",
       "    }\n",
       "</style>\n",
       "<table border=\"1\" class=\"dataframe\">\n",
       "  <thead>\n",
       "    <tr style=\"text-align: right;\">\n",
       "      <th></th>\n",
       "      <th>0</th>\n",
       "      <th>1</th>\n",
       "      <th>2</th>\n",
       "    </tr>\n",
       "  </thead>\n",
       "  <tbody>\n",
       "    <tr>\n",
       "      <th>0</th>\n",
       "      <td>spiral</td>\n",
       "      <td>three arms</td>\n",
       "      <td>strong bar</td>\n",
       "    </tr>\n",
       "    <tr>\n",
       "      <th>1</th>\n",
       "      <td>elliptical</td>\n",
       "      <td>round</td>\n",
       "      <td>elongated</td>\n",
       "    </tr>\n",
       "  </tbody>\n",
       "</table>\n",
       "</div>"
      ],
      "text/plain": [
       "            0           1           2\n",
       "0      spiral  three arms  strong bar\n",
       "1  elliptical       round   elongated"
      ]
     },
     "execution_count": 298,
     "metadata": {},
     "output_type": "execute_result"
    }
   ],
   "source": [
    "dataframe"
   ]
  },
  {
   "cell_type": "code",
   "execution_count": 304,
   "id": "77d7c9c6",
   "metadata": {},
   "outputs": [],
   "source": [
    "data = gather_data(dataframe, driver, nrepeat=5, timelapse=5)"
   ]
  },
  {
   "cell_type": "code",
   "execution_count": 305,
   "id": "e5ae66c5",
   "metadata": {},
   "outputs": [
    {
     "data": {
      "text/plain": [
       "array(['The term \"Galaxy\" refers to a collection of stars, dust, and',\n",
       "       'A galaxy can take different shapes such as elliptical, round or elongated.',\n",
       "       'A galaxy can be classified as elliptical if its shape is round or elongated',\n",
       "       'Galaxies can have different shapes, including elliptical, round, and elongated',\n",
       "       'A galaxy can have various shapes, such as elliptical, round, or elong'],\n",
       "      dtype=object)"
      ]
     },
     "execution_count": 305,
     "metadata": {},
     "output_type": "execute_result"
    }
   ],
   "source": [
    "data.iloc[1].values"
   ]
  },
  {
   "cell_type": "code",
   "execution_count": 306,
   "id": "1bf75f24",
   "metadata": {},
   "outputs": [
    {
     "data": {
      "text/plain": [
       "array(['The galaxy is classified as a spiral galaxy with three predominant arms and a robust bar.',\n",
       "       'The galaxy in question is a spiral galaxy with three prominent arms and a strong bar.',\n",
       "       'The galaxy has a spiral structure with three arms and a robust bar at its center.',\n",
       "       'The Milky Way is a spiral galaxy, consisting of three main arms and a strong bar in its center.',\n",
       "       'The galaxy features a spiral structure encompassing three arms and a prominent bar.'],\n",
       "      dtype=object)"
      ]
     },
     "execution_count": 306,
     "metadata": {},
     "output_type": "execute_result"
    }
   ],
   "source": [
    "data.iloc[0].values"
   ]
  },
  {
   "cell_type": "code",
   "execution_count": null,
   "id": "f439508e",
   "metadata": {},
   "outputs": [],
   "source": []
  }
 ],
 "metadata": {
  "kernelspec": {
   "display_name": "Python 3",
   "language": "python",
   "name": "python3"
  },
  "language_info": {
   "codemirror_mode": {
    "name": "ipython",
    "version": 3
   },
   "file_extension": ".py",
   "mimetype": "text/x-python",
   "name": "python",
   "nbconvert_exporter": "python",
   "pygments_lexer": "ipython3",
   "version": "3.7.6"
  }
 },
 "nbformat": 4,
 "nbformat_minor": 5
}
